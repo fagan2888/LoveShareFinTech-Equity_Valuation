{
 "cells": [
  {
   "cell_type": "markdown",
   "source": [
    "1.DDM（红利折现模型）：\n",
    "$$ P_0 = \\sum_{i=1}^{\\infty} \\frac{D_i}{(1+r)^i}$$ <br>\n",
    "适用条件：<br>\n",
    "1)分红公司<br>\n",
    "2）*即使分红，也需要考虑到分红与盈利相符合<br>\n",
    "3)非控制权<br>\n",
    "\n",
    "**对普通股进行分析（1）MI(DDM) (2)Controlling share holder \n"
   ],
   "metadata": {
    "collapsed": false
   }
  }
 ],
 "metadata": {
  "kernelspec": {
   "display_name": "Python 3",
   "language": "python",
   "name": "python3"
  },
  "language_info": {
   "codemirror_mode": {
    "name": "ipython",
    "version": 2
   },
   "file_extension": ".py",
   "mimetype": "text/x-python",
   "name": "python",
   "nbconvert_exporter": "python",
   "pygments_lexer": "ipython2",
   "version": "2.7.6"
  },
  "pycharm": {
   "stem_cell": {
    "cell_type": "raw",
    "source": [],
    "metadata": {
     "collapsed": false
    }
   }
  }
 },
 "nbformat": 4,
 "nbformat_minor": 0
}