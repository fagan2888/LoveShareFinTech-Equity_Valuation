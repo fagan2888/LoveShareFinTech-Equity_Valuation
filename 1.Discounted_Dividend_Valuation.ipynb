{
 "cells": [
  {
   "cell_type": "markdown",
   "source": [
    "1.DDM（Discounted Dividend Model红利折现模型）：\n",
    "$$ P_0 = \\sum_{i=1}^{\\infty} \\frac{D_i}{(1+r)^i}$$ <br>\n",
    "适用条件：<br>\n",
    "1)公司需要分红<br>\n",
    "2）*即使分红，也需要考虑到分红与盈利相符合<br>\n",
    "3)非控制权<br>\n",
    "\n",
    "**对普通股进行分析（1）MI(DDM) (2)Controlling share holder "
   ],
   "metadata": {
    "collapsed": false
   }
  },
  {
   "cell_type": "markdown",
   "source": [
    "2.GGM（Gordon Growth Model）\n",
    "\n",
    "假设：Dividend 以g进行增长\n",
    "因为我们可以从报表中获取$$D_0$$,通过假设某一增长率g，然后将$$D_i=D_0(1+g)^i$$带入原来的DDM模型<br>\n",
    "\n",
    "\n"
   ],
   "metadata": {
    "collapsed": false
   }
  },
  {
   "cell_type": "markdown",
   "source": [
    "*凡是等比数列求和<br>\n",
    "\n",
    "$$ ①式 :P_0 = \\frac{D_0(1+g)^1}{(1+r)^1} + \\frac{D_0(1+g)^2}{(1+r)^2}+ \\frac{D_0(1+g)^3}{(1+r)^3}...\\frac{D_0(1+g)^n}{(1+r)^n}$$<br>\n",
    "$$ ②式 :P_0 \\frac{(1+g)}{(1+r)} = \\frac{D_0(1+g)^2}{(1+r)^2} + \\frac{D_0(1+g)^3}{(1+r)^3}+ \\frac{D_0(1+g)^4}{(1+r)^4}...\\frac{D_0(1+g)^{n+1}}{(1+r)^{n+1}}$$\n",
    "\n",
    "$$ P_0 = \\frac{D_0(1+g)}{r-g} =  \\frac{D_1}{r-g}$$\n"
   ],
   "metadata": {
    "collapsed": false
   }
  }
 ],
 "metadata": {
  "kernelspec": {
   "display_name": "Python 3",
   "language": "python",
   "name": "python3"
  },
  "language_info": {
   "codemirror_mode": {
    "name": "ipython",
    "version": 2
   },
   "file_extension": ".py",
   "mimetype": "text/x-python",
   "name": "python",
   "nbconvert_exporter": "python",
   "pygments_lexer": "ipython2",
   "version": "2.7.6"
  },
  "pycharm": {
   "stem_cell": {
    "cell_type": "raw",
    "source": [],
    "metadata": {
     "collapsed": false
    }
   }
  }
 },
 "nbformat": 4,
 "nbformat_minor": 0
}